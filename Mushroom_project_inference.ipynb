{
 "cells": [
  {
   "cell_type": "markdown",
   "metadata": {},
   "source": [
    "# **Model Inference**\n",
    "Pengujian model dengan data random"
   ]
  },
  {
   "cell_type": "code",
   "execution_count": 15,
   "metadata": {},
   "outputs": [],
   "source": [
    "# Import Library\n",
    "# library dataframe\n",
    "import pandas as pd\n",
    "\n",
    "# library olah data numerical\n",
    "import numpy as np\n",
    "\n",
    "# Save model\n",
    "import pickle\n",
    "import joblib\n",
    "import json\n"
   ]
  },
  {
   "cell_type": "markdown",
   "metadata": {},
   "source": [
    "## **Load Model**"
   ]
  },
  {
   "cell_type": "code",
   "execution_count": 3,
   "metadata": {},
   "outputs": [],
   "source": [
    "# Load model and other files\n",
    "with open(\"KNN_best.pkl\", \"rb\") as file_1:\n",
    "  model = pickle.load(file_1)"
   ]
  },
  {
   "cell_type": "markdown",
   "metadata": {},
   "source": [
    "## **Random Data**\n",
    "Pembuatan dataframe menggunakan data random "
   ]
  },
  {
   "cell_type": "code",
   "execution_count": 13,
   "metadata": {},
   "outputs": [
    {
     "data": {
      "text/html": [
       "<div>\n",
       "<style scoped>\n",
       "    .dataframe tbody tr th:only-of-type {\n",
       "        vertical-align: middle;\n",
       "    }\n",
       "\n",
       "    .dataframe tbody tr th {\n",
       "        vertical-align: top;\n",
       "    }\n",
       "\n",
       "    .dataframe thead th {\n",
       "        text-align: right;\n",
       "    }\n",
       "</style>\n",
       "<table border=\"1\" class=\"dataframe\">\n",
       "  <thead>\n",
       "    <tr style=\"text-align: right;\">\n",
       "      <th></th>\n",
       "      <th>0</th>\n",
       "      <th>1</th>\n",
       "      <th>2</th>\n",
       "      <th>3</th>\n",
       "      <th>4</th>\n",
       "    </tr>\n",
       "  </thead>\n",
       "  <tbody>\n",
       "    <tr>\n",
       "      <th>cap-diameter</th>\n",
       "      <td>227.000000</td>\n",
       "      <td>159.000000</td>\n",
       "      <td>811.000000</td>\n",
       "      <td>201.000000</td>\n",
       "      <td>954.000000</td>\n",
       "    </tr>\n",
       "    <tr>\n",
       "      <th>cap-shape</th>\n",
       "      <td>1.000000</td>\n",
       "      <td>4.000000</td>\n",
       "      <td>2.000000</td>\n",
       "      <td>4.000000</td>\n",
       "      <td>2.000000</td>\n",
       "    </tr>\n",
       "    <tr>\n",
       "      <th>gill-attachment</th>\n",
       "      <td>0.000000</td>\n",
       "      <td>5.000000</td>\n",
       "      <td>1.000000</td>\n",
       "      <td>3.000000</td>\n",
       "      <td>0.000000</td>\n",
       "    </tr>\n",
       "    <tr>\n",
       "      <th>gill-color</th>\n",
       "      <td>10.000000</td>\n",
       "      <td>2.000000</td>\n",
       "      <td>1.000000</td>\n",
       "      <td>7.000000</td>\n",
       "      <td>0.000000</td>\n",
       "    </tr>\n",
       "    <tr>\n",
       "      <th>stem-height</th>\n",
       "      <td>1.000000</td>\n",
       "      <td>2.000000</td>\n",
       "      <td>2.000000</td>\n",
       "      <td>1.000000</td>\n",
       "      <td>3.000000</td>\n",
       "    </tr>\n",
       "    <tr>\n",
       "      <th>stem-width</th>\n",
       "      <td>813.000000</td>\n",
       "      <td>1495.000000</td>\n",
       "      <td>324.000000</td>\n",
       "      <td>2154.000000</td>\n",
       "      <td>1305.000000</td>\n",
       "    </tr>\n",
       "    <tr>\n",
       "      <th>stem-color</th>\n",
       "      <td>1.000000</td>\n",
       "      <td>9.000000</td>\n",
       "      <td>7.000000</td>\n",
       "      <td>3.000000</td>\n",
       "      <td>10.000000</td>\n",
       "    </tr>\n",
       "    <tr>\n",
       "      <th>season</th>\n",
       "      <td>0.027372</td>\n",
       "      <td>0.943195</td>\n",
       "      <td>0.027372</td>\n",
       "      <td>0.027372</td>\n",
       "      <td>0.027372</td>\n",
       "    </tr>\n",
       "  </tbody>\n",
       "</table>\n",
       "</div>"
      ],
      "text/plain": [
       "                          0            1           2            3            4\n",
       "cap-diameter     227.000000   159.000000  811.000000   201.000000   954.000000\n",
       "cap-shape          1.000000     4.000000    2.000000     4.000000     2.000000\n",
       "gill-attachment    0.000000     5.000000    1.000000     3.000000     0.000000\n",
       "gill-color        10.000000     2.000000    1.000000     7.000000     0.000000\n",
       "stem-height        1.000000     2.000000    2.000000     1.000000     3.000000\n",
       "stem-width       813.000000  1495.000000  324.000000  2154.000000  1305.000000\n",
       "stem-color         1.000000     9.000000    7.000000     3.000000    10.000000\n",
       "season             0.027372     0.943195    0.027372     0.027372     0.027372"
      ]
     },
     "execution_count": 13,
     "metadata": {},
     "output_type": "execute_result"
    }
   ],
   "source": [
    "# Define specific values for the 'season' variable\n",
    "season_values = [1.80427271, 0.94319455, 0.88845029, 0.02737213]\n",
    "\n",
    "# Generate random data\n",
    "num_rows = 5  # number of rows\n",
    "dataFrame = {\n",
    "    'cap-diameter': np.random.randint(100, 1000, num_rows),\n",
    "    'cap-shape': np.random.choice(range(6), num_rows),\n",
    "    'gill-attachment': np.random.choice(range(6), num_rows),\n",
    "    'gill-color': np.random.choice(range(11), num_rows),\n",
    "    'stem-height': np.random.randint(1, 4, num_rows),\n",
    "    'stem-width': np.random.randint(100, 3000, num_rows),\n",
    "    'stem-color': np.random.choice(range(12), num_rows),  # assuming 12 levels for stem-color\n",
    "    'season': np.random.choice(season_values, num_rows)  # random selection from specified values\n",
    "}\n",
    "\n",
    "# Create DataFrame\n",
    "random_data = pd.DataFrame(dataFrame)\n",
    "\n",
    "# Display the DataFrame\n",
    "random_data.head().T\n"
   ]
  },
  {
   "cell_type": "markdown",
   "metadata": {},
   "source": [
    "* Data random berhasil dibuat "
   ]
  },
  {
   "cell_type": "markdown",
   "metadata": {},
   "source": [
    "## **Pipeline** "
   ]
  },
  {
   "cell_type": "code",
   "execution_count": 14,
   "metadata": {},
   "outputs": [
    {
     "data": {
      "text/plain": [
       "array([1, 1, 0, 0, 0], dtype=int64)"
      ]
     },
     "execution_count": 14,
     "metadata": {},
     "output_type": "execute_result"
    }
   ],
   "source": [
    "# Prediksi menggunakan model\n",
    "y_pred_inference = model.predict(random_data)\n",
    "y_pred_inference"
   ]
  },
  {
   "cell_type": "markdown",
   "metadata": {},
   "source": [
    "* Data telah berhasil diprediksi menggunakan model KNN tuning, dari data random didapatkan bahwa 4 jamur adalah jamur beracun (1) dan 1 adalah jamur edible (0)"
   ]
  }
 ],
 "metadata": {
  "kernelspec": {
   "display_name": "base",
   "language": "python",
   "name": "python3"
  },
  "language_info": {
   "codemirror_mode": {
    "name": "ipython",
    "version": 3
   },
   "file_extension": ".py",
   "mimetype": "text/x-python",
   "name": "python",
   "nbconvert_exporter": "python",
   "pygments_lexer": "ipython3",
   "version": "3.9.18"
  }
 },
 "nbformat": 4,
 "nbformat_minor": 2
}
